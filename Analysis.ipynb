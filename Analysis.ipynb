{
 "cells": [
  {
   "cell_type": "code",
   "execution_count": 49,
   "metadata": {},
   "outputs": [],
   "source": [
    "import scipy.io\n",
    "import numpy as np\n",
    "from matplotlib import pyplot as plt\n",
    "import processing as pross "
   ]
  },
  {
   "cell_type": "code",
   "execution_count": 50,
   "metadata": {},
   "outputs": [],
   "source": [
    "\n",
    "array = np.arange(1, 40.5, 0.5)  # Start at 1, end at 40.5 (to include 40), step by 0.5\n",
    "NBI_power= [int(x) if x.is_integer() else x for x in array]\n",
    "\n"
   ]
  },
  {
   "cell_type": "code",
   "execution_count": null,
   "metadata": {},
   "outputs": [],
   "source": [
    "scipy.io.loadmat(\"Ip_1.mat\")"
   ]
  },
  {
   "cell_type": "code",
   "execution_count": 51,
   "metadata": {},
   "outputs": [
    {
     "name": "stdout",
     "output_type": "stream",
     "text": [
      "An error occurred: [Errno 2] No such file or directory: 'Complete/P1_B1_Idefault_Ndefault.mat'\n",
      "Fail: Complete/P1_B1_Idefault_Ndefault.mat\n",
      "An error occurred: [Errno 2] No such file or directory: 'Complete/P2_B1_Idefault_Ndefault.mat'\n",
      "Fail: Complete/P2_B1_Idefault_Ndefault.mat\n",
      "An error occurred: [Errno 2] No such file or directory: 'Complete/P3_B1_Idefault_Ndefault.mat'\n",
      "Fail: Complete/P3_B1_Idefault_Ndefault.mat\n",
      "An error occurred: [Errno 2] No such file or directory: 'Complete/P3.5_B1_Idefault_Ndefault.mat'\n",
      "Fail: Complete/P3.5_B1_Idefault_Ndefault.mat\n",
      "An error occurred: [Errno 2] No such file or directory: 'Complete/P4_B1_Idefault_Ndefault.mat'\n",
      "Fail: Complete/P4_B1_Idefault_Ndefault.mat\n",
      "An error occurred: [Errno 2] No such file or directory: 'Complete/P4.5_B1_Idefault_Ndefault.mat'\n",
      "Fail: Complete/P4.5_B1_Idefault_Ndefault.mat\n",
      "An error occurred: [Errno 2] No such file or directory: 'Complete/P5_B1_Idefault_Ndefault.mat'\n",
      "Fail: Complete/P5_B1_Idefault_Ndefault.mat\n",
      "An error occurred: [Errno 2] No such file or directory: 'Complete/P6_B1_Idefault_Ndefault.mat'\n",
      "Fail: Complete/P6_B1_Idefault_Ndefault.mat\n",
      "An error occurred: [Errno 2] No such file or directory: 'Complete/P7_B1_Idefault_Ndefault.mat'\n",
      "Fail: Complete/P7_B1_Idefault_Ndefault.mat\n",
      "An error occurred: [Errno 2] No such file or directory: 'Complete/P8_B1_Idefault_Ndefault.mat'\n",
      "Fail: Complete/P8_B1_Idefault_Ndefault.mat\n",
      "An error occurred: [Errno 2] No such file or directory: 'Complete/P9_B1_Idefault_Ndefault.mat'\n",
      "Fail: Complete/P9_B1_Idefault_Ndefault.mat\n",
      "An error occurred: [Errno 2] No such file or directory: 'Complete/P10_B1_Idefault_Ndefault.mat'\n",
      "Fail: Complete/P10_B1_Idefault_Ndefault.mat\n",
      "An error occurred: [Errno 2] No such file or directory: 'Complete/P11_B1_Idefault_Ndefault.mat'\n",
      "Fail: Complete/P11_B1_Idefault_Ndefault.mat\n",
      "An error occurred: [Errno 2] No such file or directory: 'Complete/P12_B1_Idefault_Ndefault.mat'\n",
      "Fail: Complete/P12_B1_Idefault_Ndefault.mat\n",
      "An error occurred: [Errno 2] No such file or directory: 'Complete/P13_B1_Idefault_Ndefault.mat'\n",
      "Fail: Complete/P13_B1_Idefault_Ndefault.mat\n",
      "An error occurred: [Errno 2] No such file or directory: 'Complete/P14_B1_Idefault_Ndefault.mat'\n",
      "Fail: Complete/P14_B1_Idefault_Ndefault.mat\n",
      "An error occurred: [Errno 2] No such file or directory: 'Complete/P15_B1_Idefault_Ndefault.mat'\n",
      "Fail: Complete/P15_B1_Idefault_Ndefault.mat\n",
      "An error occurred: [Errno 2] No such file or directory: 'Complete/P16_B1_Idefault_Ndefault.mat'\n",
      "Fail: Complete/P16_B1_Idefault_Ndefault.mat\n",
      "An error occurred: [Errno 2] No such file or directory: 'Complete/P17_B1_Idefault_Ndefault.mat'\n",
      "Fail: Complete/P17_B1_Idefault_Ndefault.mat\n",
      "An error occurred: [Errno 2] No such file or directory: 'Complete/P18_B1_Idefault_Ndefault.mat'\n",
      "Fail: Complete/P18_B1_Idefault_Ndefault.mat\n",
      "An error occurred: [Errno 2] No such file or directory: 'Complete/P19_B1_Idefault_Ndefault.mat'\n",
      "Fail: Complete/P19_B1_Idefault_Ndefault.mat\n",
      "An error occurred: [Errno 2] No such file or directory: 'Complete/P20_B1_Idefault_Ndefault.mat'\n",
      "Fail: Complete/P20_B1_Idefault_Ndefault.mat\n",
      "An error occurred: [Errno 2] No such file or directory: 'Complete/P20.5_B1_Idefault_Ndefault.mat'\n",
      "Fail: Complete/P20.5_B1_Idefault_Ndefault.mat\n",
      "An error occurred: Did not read any bytes\n",
      "Fail: Complete/P21_B1_Idefault_Ndefault.mat\n",
      "An error occurred: Did not read any bytes\n",
      "Fail: Complete/P22_B1_Idefault_Ndefault.mat\n",
      "An error occurred: Did not read any bytes\n",
      "Fail: Complete/P23_B1_Idefault_Ndefault.mat\n",
      "An error occurred: Did not read any bytes\n",
      "Fail: Complete/P24_B1_Idefault_Ndefault.mat\n",
      "An error occurred: Did not read any bytes\n",
      "Fail: Complete/P25_B1_Idefault_Ndefault.mat\n",
      "An error occurred: Did not read any bytes\n",
      "Fail: Complete/P26_B1_Idefault_Ndefault.mat\n",
      "An error occurred: Did not read any bytes\n",
      "Fail: Complete/P27_B1_Idefault_Ndefault.mat\n",
      "An error occurred: Did not read any bytes\n",
      "Fail: Complete/P28_B1_Idefault_Ndefault.mat\n",
      "An error occurred: Did not read any bytes\n",
      "Fail: Complete/P29_B1_Idefault_Ndefault.mat\n",
      "An error occurred: [Errno 2] No such file or directory: 'Complete/P30_B1_Idefault_Ndefault.mat'\n",
      "Fail: Complete/P30_B1_Idefault_Ndefault.mat\n",
      "An error occurred: Did not read any bytes\n",
      "Fail: Complete/P30.5_B1_Idefault_Ndefault.mat\n",
      "An error occurred: Did not read any bytes\n",
      "Fail: Complete/P31_B1_Idefault_Ndefault.mat\n",
      "An error occurred: Did not read any bytes\n",
      "Fail: Complete/P31.5_B1_Idefault_Ndefault.mat\n",
      "An error occurred: Did not read any bytes\n",
      "Fail: Complete/P32_B1_Idefault_Ndefault.mat\n",
      "An error occurred: Did not read any bytes\n",
      "Fail: Complete/P32.5_B1_Idefault_Ndefault.mat\n",
      "An error occurred: Did not read any bytes\n",
      "Fail: Complete/P33_B1_Idefault_Ndefault.mat\n",
      "An error occurred: Did not read any bytes\n",
      "Fail: Complete/P33.5_B1_Idefault_Ndefault.mat\n",
      "An error occurred: Did not read any bytes\n",
      "Fail: Complete/P34_B1_Idefault_Ndefault.mat\n",
      "An error occurred: Did not read any bytes\n",
      "Fail: Complete/P34.5_B1_Idefault_Ndefault.mat\n",
      "An error occurred: Did not read any bytes\n",
      "Fail: Complete/P35_B1_Idefault_Ndefault.mat\n",
      "An error occurred: Did not read any bytes\n",
      "Fail: Complete/P35.5_B1_Idefault_Ndefault.mat\n",
      "An error occurred: Did not read any bytes\n",
      "Fail: Complete/P36_B1_Idefault_Ndefault.mat\n",
      "An error occurred: Did not read any bytes\n",
      "Fail: Complete/P36.5_B1_Idefault_Ndefault.mat\n",
      "An error occurred: Did not read any bytes\n",
      "Fail: Complete/P37_B1_Idefault_Ndefault.mat\n",
      "An error occurred: Did not read any bytes\n",
      "Fail: Complete/P37.5_B1_Idefault_Ndefault.mat\n",
      "An error occurred: [Errno 2] No such file or directory: 'Complete/P38_B1_Idefault_Ndefault.mat'\n",
      "Fail: Complete/P38_B1_Idefault_Ndefault.mat\n",
      "An error occurred: Did not read any bytes\n",
      "Fail: Complete/P38.5_B1_Idefault_Ndefault.mat\n",
      "An error occurred: [Errno 2] No such file or directory: 'Complete/P39_B1_Idefault_Ndefault.mat'\n",
      "Fail: Complete/P39_B1_Idefault_Ndefault.mat\n",
      "An error occurred: Did not read any bytes\n",
      "Fail: Complete/P39.5_B1_Idefault_Ndefault.mat\n",
      "An error occurred: [Errno 2] No such file or directory: 'Complete/P40_B1_Idefault_Ndefault.mat'\n",
      "Fail: Complete/P40_B1_Idefault_Ndefault.mat\n"
     ]
    }
   ],
   "source": [
    "DataSet_list = []\n",
    "non_corrupted_NBI = []\n",
    "for n in NBI_power:\n",
    "    try:\n",
    "        DataSet_list.append(scipy.io.loadmat(\"Complete/P{}_B1_Idefault_Ndefault.mat\".format(n)))\n",
    "        non_corrupted_NBI.append(n)\n",
    "    except Exception as e:\n",
    "        # Print the error message\n",
    "        print(f\"An error occurred: {e}\")\n",
    "        print(\"Fail: Complete/P{}_B1_Idefault_Ndefault.mat\".format(n))\n",
    "    "
   ]
  },
  {
   "cell_type": "code",
   "execution_count": 52,
   "metadata": {},
   "outputs": [],
   "source": [
    "Ion_Temperature = []\n",
    "Confinement_Time = []\n",
    "Density = []\n",
    "Tripple_product = []\n",
    "nbi_power_out = []\n",
    "for n in DataSet_list:\n",
    "    tio = np.array(pross.get_variable(n,'tite'))*np.array(pross.get_variable(n,'te0'))\n",
    "    nio = np.array(pross.get_variable(n,'ni0'))\n",
    "    taue = np.array(pross.get_variable(n,\"taue\"))\n",
    "    nbi = np.array(pross.get_variable(n,\"pnbi\"))\n",
    "    nbi_power_out.append(np.mean(nbi[50:100]))\n",
    "    Ion_Temperature.append(np.mean(tio[50:100]))\n",
    "    Confinement_Time.append(np.mean(taue[50:100]))\n",
    "    Density.append(np.mean(nio[50:100]))\n",
    "    tp = tio*nio*taue\n",
    "    Tripple_product.append(np.mean(tp[50:100]))"
   ]
  },
  {
   "cell_type": "code",
   "execution_count": 53,
   "metadata": {},
   "outputs": [
    {
     "data": {
      "text/plain": [
       "Text(0.5, 0, 'Neutral Beam Injeciton Power (W)')"
      ]
     },
     "execution_count": 53,
     "metadata": {},
     "output_type": "execute_result"
    }
   ],
   "source": [
    "fig, ax = plt.subplots(2,2)\n",
    "\n",
    "\n",
    "ax[0,0].plot(nbi_power_out,Tripple_product)\n",
    "ax[0,0].set_title(\"Plot of Fusion Triple Product against NBI Power\")\n",
    "ax[0,0].set_ylabel(\"Fusion Triple Product\")\n",
    "ax[0,0].set_xlabel(\"Neutral Beam Injeciton Power (W)\")\n"
   ]
  },
  {
   "cell_type": "code",
   "execution_count": 54,
   "metadata": {},
   "outputs": [
    {
     "data": {
      "text/plain": [
       "Text(0.5, 0, 'Neutral Beam Injeciton Power (W)')"
      ]
     },
     "execution_count": 54,
     "metadata": {},
     "output_type": "execute_result"
    }
   ],
   "source": [
    "ax[0,1].plot(nbi_power_out,Ion_Temperature)\n",
    "ax[0,1].set_title(\"Plot of Ion_Temperature against NBI Power\")\n",
    "ax[0,1].set_ylabel(\"Ion Temperature\")\n",
    "ax[0,1].set_xlabel(\"Neutral Beam Injeciton Power (W)\")\n"
   ]
  },
  {
   "cell_type": "code",
   "execution_count": 55,
   "metadata": {},
   "outputs": [
    {
     "data": {
      "text/plain": [
       "Text(0.5, 0, 'Neutral Beam Injeciton Power (W)')"
      ]
     },
     "execution_count": 55,
     "metadata": {},
     "output_type": "execute_result"
    }
   ],
   "source": [
    "ax[1,0].plot(nbi_power_out,Density)\n",
    "ax[1,0].set_title(\"Plot of Density against NBI Power\")\n",
    "ax[1,0].set_ylabel(\"Density\")\n",
    "ax[1,0].set_xlabel(\"Neutral Beam Injeciton Power (W)\")\n"
   ]
  },
  {
   "cell_type": "code",
   "execution_count": 56,
   "metadata": {},
   "outputs": [],
   "source": [
    "ax[1,1].plot(nbi_power_out,Confinement_Time)\n",
    "ax[1,1].set_title(\"Plot of Confinement_Time against NBI Power\")\n",
    "ax[1,1].set_ylabel(\"Confinement_Time\")\n",
    "ax[1,1].set_xlabel(\"Neutral Beam Injeciton Power (W)\")\n",
    "plt.show()"
   ]
  }
 ],
 "metadata": {
  "kernelspec": {
   "display_name": ".venv",
   "language": "python",
   "name": "python3"
  },
  "language_info": {
   "codemirror_mode": {
    "name": "ipython",
    "version": 3
   },
   "file_extension": ".py",
   "mimetype": "text/x-python",
   "name": "python",
   "nbconvert_exporter": "python",
   "pygments_lexer": "ipython3",
   "version": "3.12.3"
  }
 },
 "nbformat": 4,
 "nbformat_minor": 2
}
